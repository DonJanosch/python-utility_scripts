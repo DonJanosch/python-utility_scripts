{
 "cells": [
  {
   "cell_type": "code",
   "execution_count": 1,
   "metadata": {},
   "outputs": [],
   "source": [
    "import requests, json, pandas as pd, numpy as np\n",
    "from datetime import datetime"
   ]
  },
  {
   "cell_type": "code",
   "execution_count": 2,
   "metadata": {},
   "outputs": [],
   "source": [
    "year = datetime.now().year\n",
    "saison_start = datetime(year, 4, 1)\n",
    "saison_end = datetime(year, 10, 31)\n",
    "relevant_weekdays = [5,6]\n",
    "weekday_dict = {5:'Samstag',6:'Sonntag'}\n",
    "holiday_api_url = f'https://feiertage-api.de/api/?jahr={year}'\n",
    "country = 'BY'\n",
    "file_name = f'NBDF_schleppwochenenden_{year}.xlsx'"
   ]
  },
  {
   "cell_type": "code",
   "execution_count": 3,
   "metadata": {},
   "outputs": [],
   "source": [
    "holiday_obj = json.loads(requests.get(holiday_api_url).content)[country]"
   ]
  },
  {
   "cell_type": "code",
   "execution_count": 4,
   "metadata": {},
   "outputs": [],
   "source": [
    "holiday_dict = dict()\n",
    "for name, param in holiday_obj.items():\n",
    "    holiday_str = param['datum']\n",
    "    holiday = datetime.strptime(holiday_str,'%Y-%m-%d')\n",
    "    hinweis = param['hinweis']\n",
    "    if len(hinweis) == 0:\n",
    "        holiday_dict[holiday] = name\n",
    "holidays = list(holiday_dict.keys())"
   ]
  },
  {
   "cell_type": "code",
   "execution_count": 5,
   "metadata": {},
   "outputs": [],
   "source": [
    "dates, calendar_weeks, weekdays = [], [], []\n",
    "for month in range(1,13,1):\n",
    "    for day in range(1,32,1):\n",
    "        try:\n",
    "            date = datetime(year, month, day)\n",
    "            date_str = date.strftime('%d.%m.%Y')\n",
    "            weekday = date.weekday()\n",
    "            calendar_week = date.strftime('%V')\n",
    "            if (weekday in relevant_weekdays or date in holidays) and date > saison_start and date < saison_end:\n",
    "                if date in holidays:\n",
    "                    weekday_str = holiday_dict[date]\n",
    "                else:\n",
    "                    weekday_str = weekday_dict[weekday]\n",
    "                dates.append(date_str)\n",
    "                calendar_weeks.append(calendar_week)\n",
    "                weekdays.append(weekday_str)\n",
    "        except:\n",
    "            pass"
   ]
  },
  {
   "cell_type": "code",
   "execution_count": 6,
   "metadata": {},
   "outputs": [],
   "source": [
    "empty_list = ['' for _ in range(len(dates))]\n",
    "df_dict = {\n",
    "    'KW':calendar_weeks,\n",
    "    'Datum':dates,\n",
    "    'Wochentag':weekdays,\n",
    "    'Verfügbar als WF':empty_list,\n",
    "    'Verfügbar als Helfer':empty_list,\n",
    "    'Kann ich auf keinen Fall':empty_list,  \n",
    "}"
   ]
  },
  {
   "cell_type": "code",
   "execution_count": 7,
   "metadata": {},
   "outputs": [],
   "source": [
    "df_blank = pd.DataFrame(df_dict)"
   ]
  },
  {
   "cell_type": "code",
   "execution_count": 8,
   "metadata": {},
   "outputs": [],
   "source": [
    "avaliable_days = 12\n",
    "avaliable_helper = 4\n",
    "non_avaliable_days = 6\n",
    "indexes = [idx for idx in range(len(dates))]\n",
    "selection = list(np.random.choice(indexes,size=avaliable_days+avaliable_helper+non_avaliable_days,replace=False))\n",
    "for idx in selection[:avaliable_days]:\n",
    "    df_dict['Verfügbar als WF'][idx] = 'X'\n",
    "for idx in selection[avaliable_days:avaliable_days+avaliable_helper]:\n",
    "    df_dict['Verfügbar als Helfer'][idx] = 'X'\n",
    "for idx in selection[avaliable_days+avaliable_helper:]:\n",
    "    df_dict['Kann ich auf keinen Fall'][idx] = 'X'"
   ]
  },
  {
   "cell_type": "code",
   "execution_count": 9,
   "metadata": {},
   "outputs": [],
   "source": [
    "df_example = pd.DataFrame(df_dict)"
   ]
  },
  {
   "cell_type": "code",
   "execution_count": 10,
   "metadata": {},
   "outputs": [],
   "source": [
    "with pd.ExcelWriter(file_name) as writer:\n",
    "    df_blank.to_excel(writer, sheet_name=str(year),index=False)\n",
    "    df_example.to_excel(writer, sheet_name='Beispiel',index=False)"
   ]
  },
  {
   "cell_type": "code",
   "execution_count": 11,
   "metadata": {},
   "outputs": [
    {
     "name": "stdout",
     "output_type": "stream",
     "text": [
      "All Done.\n"
     ]
    }
   ],
   "source": [
    "print('All Done.')"
   ]
  }
 ],
 "metadata": {
  "kernelspec": {
   "display_name": "Python 3",
   "language": "python",
   "name": "python3"
  },
  "language_info": {
   "codemirror_mode": {
    "name": "ipython",
    "version": 3
   },
   "file_extension": ".py",
   "mimetype": "text/x-python",
   "name": "python",
   "nbconvert_exporter": "python",
   "pygments_lexer": "ipython3",
   "version": "3.7.0"
  }
 },
 "nbformat": 4,
 "nbformat_minor": 2
}
