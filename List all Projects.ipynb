{
 "cells": [
  {
   "cell_type": "code",
   "execution_count": 1,
   "metadata": {},
   "outputs": [],
   "source": [
    "import os"
   ]
  },
  {
   "cell_type": "code",
   "execution_count": 2,
   "metadata": {},
   "outputs": [],
   "source": [
    "root_dir = 'W:\\\\Kunden'\n",
    "Projekte = dict()"
   ]
  },
  {
   "cell_type": "code",
   "execution_count": 3,
   "metadata": {},
   "outputs": [],
   "source": [
    "Kunden = [x for x in os.listdir(root_dir) if x[:5].isnumeric()]\n",
    "for kunde in Kunden:\n",
    "    sub_dir = os.path.join(root_dir,kunde)\n",
    "    Kundenprojekte = [x for x in os.listdir(sub_dir) if x[:5].isnumeric()]\n",
    "    if len(Kundenprojekte) > 0:\n",
    "        Projekte[kunde] = Kundenprojekte"
   ]
  },
  {
   "cell_type": "code",
   "execution_count": 4,
   "metadata": {},
   "outputs": [],
   "source": [
    "file_name = 'Projekte.csv'\n",
    "file_path = os.path.join(file_name)\n",
    "payload = sorted([f'{projekt} ({kunde[6:]})' for kunde, projekte in Projekte.items() for projekt in projekte])\n",
    "with open(file_path,'w') as f:\n",
    "    for p in payload:\n",
    "        f.write(f'{p};\\n')"
   ]
  },
  {
   "cell_type": "code",
   "execution_count": 5,
   "metadata": {},
   "outputs": [
    {
     "name": "stdout",
     "output_type": "stream",
     "text": [
      "All Done.\n"
     ]
    }
   ],
   "source": [
    "import subprocess\n",
    "subprocess.Popen(f'explorer \"{file_path}\"');\n",
    "print('All Done.')"
   ]
  }
 ],
 "metadata": {
  "kernelspec": {
   "display_name": "Python 3",
   "language": "python",
   "name": "python3"
  },
  "language_info": {
   "codemirror_mode": {
    "name": "ipython",
    "version": 3
   },
   "file_extension": ".py",
   "mimetype": "text/x-python",
   "name": "python",
   "nbconvert_exporter": "python",
   "pygments_lexer": "ipython3",
   "version": "3.7.0"
  }
 },
 "nbformat": 4,
 "nbformat_minor": 2
}
