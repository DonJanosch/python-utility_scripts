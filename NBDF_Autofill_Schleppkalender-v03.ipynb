{
 "cells": [
  {
   "cell_type": "code",
   "execution_count": null,
   "metadata": {},
   "outputs": [],
   "source": [
    "import pandas as pd\n",
    "import numpy as np\n",
    "from datetime import datetime\n",
    "np.random.seed(43)"
   ]
  },
  {
   "cell_type": "code",
   "execution_count": null,
   "metadata": {},
   "outputs": [],
   "source": [
    "source_file = './WF_Rohdaten.xlsx'\n",
    "current_calendar_file = './NBDF_schleppkalender_pull_2019-04-30.xlsx'\n",
    "replies = './Rückmeldungne.xlsx'"
   ]
  },
  {
   "cell_type": "code",
   "execution_count": null,
   "metadata": {},
   "outputs": [],
   "source": [
    "results_file = f'Filled_calendar_{datetime.now().strftime(\"%Y-%m-%d\")}.xlsx'"
   ]
  },
  {
   "cell_type": "code",
   "execution_count": null,
   "metadata": {},
   "outputs": [],
   "source": [
    "NBDF_member = pd.read_excel(source_file)\n",
    "current_calendar = pd.read_excel(current_calendar_file)\n",
    "replies_dict = {}\n",
    "for sheet in pd.ExcelFile(replies).sheet_names:\n",
    "    try:\n",
    "        df = pd.read_excel(replies,sheet_name=sheet)\n",
    "        first_name = df.columns[7]\n",
    "        last_name = str(df[first_name][0])\n",
    "        name = f'{first_name.strip().capitalize()[0]}. {last_name.strip().capitalize()}'\n",
    "        unavaliable = list(df[(df['Kann ich auf keinen Fall']=='X') | (df['Kann ich auf keinen Fall']=='x') | (df['Kann ich auf keinen Fall']=='1')]['Datum'])\n",
    "        replies_dict[name] = unavaliable\n",
    "    except:\n",
    "        pass"
   ]
  },
  {
   "cell_type": "code",
   "execution_count": null,
   "metadata": {},
   "outputs": [],
   "source": [
    "eingeteilte_WF = list(current_calendar['Windenfahrer'].dropna())\n",
    "eingeteilte_helfer = list(current_calendar['Helfer'].dropna())"
   ]
  },
  {
   "cell_type": "code",
   "execution_count": null,
   "metadata": {},
   "outputs": [],
   "source": [
    "wf_dict = {}\n",
    "for wf in eingeteilte_WF:\n",
    "    if wf in wf_dict.keys():\n",
    "        wf_dict[wf]+=1\n",
    "    else:\n",
    "        wf_dict[wf]= 1\n",
    "        \n",
    "helfer_dict = {}\n",
    "for helfer in eingeteilte_helfer:\n",
    "    if helfer in helfer_dict.keys():\n",
    "        helfer_dict[helfer]+=1\n",
    "    else:\n",
    "        helfer_dict[helfer]=1"
   ]
  },
  {
   "cell_type": "code",
   "execution_count": null,
   "metadata": {},
   "outputs": [],
   "source": [
    "wf_dict"
   ]
  },
  {
   "cell_type": "code",
   "execution_count": null,
   "metadata": {},
   "outputs": [],
   "source": [
    "helfer_dict"
   ]
  },
  {
   "cell_type": "code",
   "execution_count": null,
   "metadata": {},
   "outputs": [],
   "source": [
    "NBDF_member['Name_short'] = NBDF_member.apply(lambda row: row['Vorname'][0]+'. ' + row['Name'], axis=1)"
   ]
  },
  {
   "cell_type": "code",
   "execution_count": null,
   "metadata": {},
   "outputs": [],
   "source": [
    "NBDF_Helfer = NBDF_member[NBDF_member['WF HG'] != 'X']"
   ]
  },
  {
   "cell_type": "code",
   "execution_count": null,
   "metadata": {},
   "outputs": [],
   "source": [
    "Helfer_Namen = list(NBDF_Helfer['Name_short'])\n",
    "Helfer_Schlepps = [int(s) for s in list(NBDF_Helfer['Anzahl Schlepps 2018'])]\n",
    "total_schlepps = sum(Helfer_Schlepps)\n",
    "Helfer_Prob = [s/total_schlepps for s in Helfer_Schlepps]"
   ]
  },
  {
   "cell_type": "code",
   "execution_count": null,
   "metadata": {},
   "outputs": [],
   "source": [
    "WF_GS = NBDF_member[['Name_short','Anzahl Schlepps 2018','WF HG']]\n",
    "WF_GS = WF_GS[WF_GS['WF HG'].isin(['X'])]"
   ]
  },
  {
   "cell_type": "code",
   "execution_count": null,
   "metadata": {},
   "outputs": [],
   "source": [
    "WF_GS.sort_values(['Anzahl Schlepps 2018'],ascending=False)"
   ]
  },
  {
   "cell_type": "code",
   "execution_count": null,
   "metadata": {},
   "outputs": [],
   "source": [
    "verfügbare_wf = sorted(list(set(list(WF_GS['Name_short'])+eingeteilte_WF)))"
   ]
  },
  {
   "cell_type": "code",
   "execution_count": null,
   "metadata": {},
   "outputs": [],
   "source": [
    "verfügbare_wf"
   ]
  },
  {
   "cell_type": "code",
   "execution_count": null,
   "metadata": {},
   "outputs": [],
   "source": [
    "besetzte_liste = []\n",
    "max_iter = 20\n",
    "for wf in verfügbare_wf:\n",
    "    if not wf in replies_dict.keys():\n",
    "        replies_dict[wf] = []\n",
    "dates = list(current_calendar['Datum'])\n",
    "for idx, wf in enumerate(list(current_calendar['Windenfahrer'])):\n",
    "    if str(wf) != 'nan':\n",
    "        besetzte_liste.append(wf)\n",
    "    else:\n",
    "        geringster_wert = min(wf_dict.values())\n",
    "        haben_genug = [key for key, value in wf_dict.items() if value > geringster_wert]\n",
    "        if len(haben_genug) == 0:\n",
    "            haben_genug = []\n",
    "        n_iter = 0\n",
    "        while True:\n",
    "            n_iter += 1\n",
    "            kandidat = np.random.choice(verfügbare_wf) \n",
    "            if n_iter > max_iter:\n",
    "                besetzte_liste.append(kandidat)\n",
    "                if kandidat in wf_dict.keys():\n",
    "                    wf_dict[kandidat]+=1\n",
    "                else:\n",
    "                    wf_dict[kandidat]=1\n",
    "                break\n",
    "            if not kandidat in haben_genug:\n",
    "                c_date = dates[idx]\n",
    "                if not c_date in replies_dict[kandidat]:\n",
    "                    besetzte_liste.append(kandidat)\n",
    "                    if kandidat in wf_dict.keys():\n",
    "                        wf_dict[kandidat]+=1\n",
    "                    else:\n",
    "                        wf_dict[kandidat]=1\n",
    "                    break\n",
    "current_calendar['Windenfahrer voll besetzt'] = besetzte_liste"
   ]
  },
  {
   "cell_type": "code",
   "execution_count": null,
   "metadata": {},
   "outputs": [],
   "source": [
    "besetzte_liste = []\n",
    "max_iter = 30\n",
    "for hf in Helfer_Namen:\n",
    "    if not hf in replies_dict.keys():\n",
    "        replies_dict[hf] = []\n",
    "    if not hf in helfer_dict.keys():\n",
    "        helfer_dict[hf] = 0\n",
    "dates = list(current_calendar['Datum'])\n",
    "for idx, wf in enumerate(list(current_calendar['Helfer'])):\n",
    "    if str(wf) != 'nan':\n",
    "        besetzte_liste.append(wf)\n",
    "    else:\n",
    "        geringster_wert = min(helfer_dict.values())\n",
    "        haben_genug = [key for key, value in helfer_dict.items() if value > geringster_wert]\n",
    "        if len(haben_genug) == 0:\n",
    "            haben_genug = []\n",
    "        n_iter = 0\n",
    "        while True:\n",
    "            n_iter += 1\n",
    "            kandidat = np.random.choice(Helfer_Namen,p=Helfer_Prob)\n",
    "            print(kandidat)\n",
    "            if n_iter > max_iter:\n",
    "                besetzte_liste.append(kandidat)\n",
    "                if kandidat in wf_dict.keys():\n",
    "                    helfer_dict[kandidat]+=1\n",
    "                else:\n",
    "                    helfer_dict[kandidat]=1\n",
    "                break\n",
    "            if not kandidat in haben_genug:\n",
    "                c_date = dates[idx]\n",
    "                if not c_date in replies_dict[kandidat]:\n",
    "                    besetzte_liste.append(kandidat)\n",
    "                    if kandidat in wf_dict.keys():\n",
    "                        helfer_dict[kandidat]+=1\n",
    "                    else:\n",
    "                        helfer_dict[kandidat]=1\n",
    "                    break\n",
    "current_calendar['Helfer voll besetzt'] = besetzte_liste"
   ]
  },
  {
   "cell_type": "code",
   "execution_count": null,
   "metadata": {},
   "outputs": [],
   "source": [
    "current_calendar"
   ]
  },
  {
   "cell_type": "code",
   "execution_count": null,
   "metadata": {},
   "outputs": [],
   "source": [
    "wf_dict"
   ]
  },
  {
   "cell_type": "code",
   "execution_count": null,
   "metadata": {},
   "outputs": [],
   "source": [
    "helfer_dict"
   ]
  },
  {
   "cell_type": "code",
   "execution_count": null,
   "metadata": {},
   "outputs": [],
   "source": [
    "neue_helfer = current_calendar[current_calendar['Helfer'].isnull()].sort_values('Helfer voll besetzt').reset_index()[['Datum','Helfer voll besetzt']]"
   ]
  },
  {
   "cell_type": "code",
   "execution_count": null,
   "metadata": {},
   "outputs": [],
   "source": [
    "neue_wf = current_calendar[current_calendar['Windenfahrer'].isnull()].sort_values('Windenfahrer voll besetzt').reset_index()[['Datum','Windenfahrer voll besetzt']]"
   ]
  },
  {
   "cell_type": "code",
   "execution_count": null,
   "metadata": {},
   "outputs": [],
   "source": [
    "neue_wf"
   ]
  },
  {
   "cell_type": "code",
   "execution_count": null,
   "metadata": {},
   "outputs": [],
   "source": [
    "with pd.ExcelWriter(results_file) as writer:\n",
    "    current_calendar.to_excel(writer, sheet_name='calendar',index=False)\n",
    "    neue_wf.to_excel(writer, sheet_name='neue_wf')\n",
    "    neue_helfer.to_excel(writer, sheet_name='neue_helfer')\n",
    "print('All Done')"
   ]
  },
  {
   "cell_type": "code",
   "execution_count": null,
   "metadata": {},
   "outputs": [],
   "source": []
  }
 ],
 "metadata": {
  "kernelspec": {
   "display_name": "Python 3",
   "language": "python",
   "name": "python3"
  },
  "language_info": {
   "codemirror_mode": {
    "name": "ipython",
    "version": 3
   },
   "file_extension": ".py",
   "mimetype": "text/x-python",
   "name": "python",
   "nbconvert_exporter": "python",
   "pygments_lexer": "ipython3",
   "version": "3.7.0"
  }
 },
 "nbformat": 4,
 "nbformat_minor": 2
}
