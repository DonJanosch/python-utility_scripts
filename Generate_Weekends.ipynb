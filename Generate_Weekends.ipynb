{
 "cells": [
  {
   "cell_type": "code",
   "execution_count": 1,
   "metadata": {},
   "outputs": [],
   "source": [
    "import os, subprocess, requests, json\n",
    "import pandas as pd, numpy as np\n",
    "from datetime import datetime"
   ]
  },
  {
   "cell_type": "code",
   "execution_count": 2,
   "metadata": {},
   "outputs": [],
   "source": [
    "year = datetime.now().year\n",
    "dates, weekdays, weeks = [], [], []\n",
    "relevant_weekdays = [5,6]\n",
    "saison_start = datetime(year,4,1)\n",
    "saison_ende = datetime(year,10,31)\n",
    "weekday_dict = {5:'Samstag',6:'Sonntag'}\n",
    "file_name = f'NBDF_schleppwochenenden_{year}.xlsx'\n",
    "sub_dir = 'schleppkalender'\n",
    "feiertag_api = f'https://feiertage-api.de/api/?jahr={year}'\n",
    "county = 'BY'"
   ]
  },
  {
   "cell_type": "code",
   "execution_count": 3,
   "metadata": {},
   "outputs": [],
   "source": [
    "feiertage_obj = json.loads(requests.get(feiertag_api).content)[county]"
   ]
  },
  {
   "cell_type": "code",
   "execution_count": 4,
   "metadata": {},
   "outputs": [],
   "source": [
    "feiertage_dict = dict()\n",
    "for key, val in feiertage_obj.items():\n",
    "    date = datetime.strptime(val['datum'], '%Y-%m-%d')\n",
    "    skip = len(val['hinweis'])>0\n",
    "    name = key\n",
    "    if not skip:\n",
    "        feiertage_dict[date] = name\n",
    "feiertage = list(feiertage_dict.keys())"
   ]
  },
  {
   "cell_type": "code",
   "execution_count": 5,
   "metadata": {},
   "outputs": [],
   "source": [
    "for month in range(1,13,1):\n",
    "    for day in range(1,32,1):\n",
    "        try:\n",
    "            date = datetime(year=year,month=month,day=day)\n",
    "            weekday = datetime.weekday(date)\n",
    "            week = date.strftime(\"%V\")\n",
    "            if date > saison_start and date < saison_ende:\n",
    "                if date in feiertage:\n",
    "                    weekdays.append(feiertage_dict[date])\n",
    "                else:\n",
    "                    weekdays.append(weekday_dict[weekday])\n",
    "                weeks.append(week)\n",
    "                dates.append(date.strftime('%d.%m.%Y'))\n",
    "        except:\n",
    "            continue"
   ]
  },
  {
   "cell_type": "code",
   "execution_count": 6,
   "metadata": {},
   "outputs": [],
   "source": [
    "abs_path = os.path.join(os.getcwd(),sub_dir)\n",
    "if not os.path.exists(abs_path):\n",
    "    os.makedirs(abs_path)"
   ]
  },
  {
   "cell_type": "code",
   "execution_count": 7,
   "metadata": {},
   "outputs": [],
   "source": [
    "weekend_dict = {\n",
    "    'KW':weeks,\n",
    "    'Datum':dates,\n",
    "    'Wochentag':weekdays,\n",
    "    'Verfügbar als WF':[' ' for _ in range(len(dates))],\n",
    "    'Verfügbar als Helfer':[' ' for _ in range(len(dates))],\n",
    "    'Kann ich auf keinen Fall':[' ' for _ in range(len(dates))]\n",
    "}"
   ]
  },
  {
   "cell_type": "code",
   "execution_count": 8,
   "metadata": {},
   "outputs": [],
   "source": [
    "df_blank = pd.DataFrame(weekend_dict)"
   ]
  },
  {
   "cell_type": "code",
   "execution_count": 9,
   "metadata": {},
   "outputs": [],
   "source": [
    "avaliable_days = 12\n",
    "avaliable_helper = 4\n",
    "non_avaliable_days = 6\n",
    "indexes = [idx for idx in range(len(dates))]\n",
    "selection = list(np.random.choice(indexes,size=avaliable_days+avaliable_helper+non_avaliable_days,replace=False))\n",
    "for idx in selection[:avaliable_days]:\n",
    "    weekend_dict['Verfügbar als WF'][idx] = 'X'\n",
    "for idx in selection[avaliable_days:avaliable_days+avaliable_helper]:\n",
    "    weekend_dict['Verfügbar als Helfer'][idx] = 'X'\n",
    "for idx in selection[avaliable_days+avaliable_helper:]:\n",
    "    weekend_dict['Kann ich auf keinen Fall'][idx] = 'X'"
   ]
  },
  {
   "cell_type": "code",
   "execution_count": 10,
   "metadata": {},
   "outputs": [],
   "source": [
    "df_example = pd.DataFrame(weekend_dict)"
   ]
  },
  {
   "cell_type": "code",
   "execution_count": 11,
   "metadata": {},
   "outputs": [],
   "source": [
    "with pd.ExcelWriter(os.path.join(abs_path,file_name)) as writer:  # doctest: +SKIP\n",
    "    df_blank.to_excel(writer, sheet_name=str(year),index=False)\n",
    "    df_example.to_excel(writer, sheet_name='Beispiel',index=False)"
   ]
  },
  {
   "cell_type": "code",
   "execution_count": 12,
   "metadata": {},
   "outputs": [],
   "source": [
    "subprocess.Popen(['xdg-open', abs_path]);"
   ]
  },
  {
   "cell_type": "code",
   "execution_count": 13,
   "metadata": {},
   "outputs": [
    {
     "name": "stdout",
     "output_type": "stream",
     "text": [
      "All Done.\n"
     ]
    }
   ],
   "source": [
    "print('All Done.')"
   ]
  }
 ],
 "metadata": {
  "kernelspec": {
   "display_name": "Python 3",
   "language": "python",
   "name": "python3"
  },
  "language_info": {
   "codemirror_mode": {
    "name": "ipython",
    "version": 3
   },
   "file_extension": ".py",
   "mimetype": "text/x-python",
   "name": "python",
   "nbconvert_exporter": "python",
   "pygments_lexer": "ipython3",
   "version": "3.6.5"
  }
 },
 "nbformat": 4,
 "nbformat_minor": 2
}
