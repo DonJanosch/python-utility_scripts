{
 "cells": [
  {
   "cell_type": "code",
   "execution_count": 1,
   "metadata": {},
   "outputs": [],
   "source": [
    "# Script for transforming PLANNER-EXCEL-Export in form"
   ]
  },
  {
   "cell_type": "code",
   "execution_count": 2,
   "metadata": {},
   "outputs": [],
   "source": [
    "import pandas as pd\n",
    "from datetime import datetime"
   ]
  },
  {
   "cell_type": "code",
   "execution_count": 3,
   "metadata": {},
   "outputs": [],
   "source": [
    "file_path = 'Aufgaben (1).xlsx'"
   ]
  },
  {
   "cell_type": "code",
   "execution_count": 4,
   "metadata": {},
   "outputs": [],
   "source": [
    "ts = str(datetime.now()).split('.')[0].replace(':','_')"
   ]
  },
  {
   "cell_type": "code",
   "execution_count": 5,
   "metadata": {},
   "outputs": [
    {
     "data": {
      "text/plain": [
       "'2020-08-04 10_21_34'"
      ]
     },
     "execution_count": 5,
     "metadata": {},
     "output_type": "execute_result"
    }
   ],
   "source": [
    "ts"
   ]
  },
  {
   "cell_type": "code",
   "execution_count": 6,
   "metadata": {},
   "outputs": [],
   "source": [
    "sheetname = f'Evaluation {ts}'"
   ]
  },
  {
   "cell_type": "code",
   "execution_count": 7,
   "metadata": {},
   "outputs": [],
   "source": [
    "df = pd.read_excel(file_path,skiprows=4)"
   ]
  },
  {
   "cell_type": "code",
   "execution_count": 8,
   "metadata": {},
   "outputs": [
    {
     "data": {
      "text/html": [
       "<div>\n",
       "<style scoped>\n",
       "    .dataframe tbody tr th:only-of-type {\n",
       "        vertical-align: middle;\n",
       "    }\n",
       "\n",
       "    .dataframe tbody tr th {\n",
       "        vertical-align: top;\n",
       "    }\n",
       "\n",
       "    .dataframe thead th {\n",
       "        text-align: right;\n",
       "    }\n",
       "</style>\n",
       "<table border=\"1\" class=\"dataframe\">\n",
       "  <thead>\n",
       "    <tr style=\"text-align: right;\">\n",
       "      <th></th>\n",
       "      <th>Task ID</th>\n",
       "      <th>Task Name</th>\n",
       "      <th>Bucket Name</th>\n",
       "      <th>Progress</th>\n",
       "      <th>Priority</th>\n",
       "      <th>Assigned To</th>\n",
       "      <th>Created By</th>\n",
       "      <th>Created Date</th>\n",
       "      <th>Start Date</th>\n",
       "      <th>Due Date</th>\n",
       "      <th>Late</th>\n",
       "      <th>Completed Date</th>\n",
       "      <th>Completed By</th>\n",
       "      <th>Description</th>\n",
       "      <th>Completed Checklist Items</th>\n",
       "      <th>Checklist Items</th>\n",
       "      <th>Labels</th>\n",
       "    </tr>\n",
       "  </thead>\n",
       "  <tbody>\n",
       "    <tr>\n",
       "      <th>0</th>\n",
       "      <td>Wd28b-lX-0SpEFlYflgF2JcANw4W</td>\n",
       "      <td>Vertragsteil A klären</td>\n",
       "      <td>To do</td>\n",
       "      <td>Not started</td>\n",
       "      <td>Medium</td>\n",
       "      <td>NaN</td>\n",
       "      <td>Macenka, Jan</td>\n",
       "      <td>07/20/2020</td>\n",
       "      <td>NaN</td>\n",
       "      <td>NaN</td>\n",
       "      <td>False</td>\n",
       "      <td>NaN</td>\n",
       "      <td>NaN</td>\n",
       "      <td>Für den Umbau ist nach wie Vor kein Vertragste...</td>\n",
       "      <td>0/2</td>\n",
       "      <td>Lösung für kommerzielle Themen finden;Hr. Hümm...</td>\n",
       "      <td>NaN</td>\n",
       "    </tr>\n",
       "    <tr>\n",
       "      <th>1</th>\n",
       "      <td>4y5J5__i9kOtxswNT1NKtJcAMJAZ</td>\n",
       "      <td>EBRO Klappen</td>\n",
       "      <td>To do</td>\n",
       "      <td>Not started</td>\n",
       "      <td>Medium</td>\n",
       "      <td>Macenka, Jan;Schroeder, Hartwig</td>\n",
       "      <td>Macenka, Jan</td>\n",
       "      <td>07/07/2020</td>\n",
       "      <td>07/06/2020</td>\n",
       "      <td>07/10/2020</td>\n",
       "      <td>True</td>\n",
       "      <td>NaN</td>\n",
       "      <td>NaN</td>\n",
       "      <td>Angebtlich gibt es einen Vorgang, dass EBRO ei...</td>\n",
       "      <td>2/4</td>\n",
       "      <td>EBRO anrufen;Ggf. Ersatzbestellung auslösen;We...</td>\n",
       "      <td>NaN</td>\n",
       "    </tr>\n",
       "    <tr>\n",
       "      <th>2</th>\n",
       "      <td>V1bQA5YYi0yBT49-rVeqZJcAD37b</td>\n",
       "      <td>Ergänzungen zur Ausschreibung</td>\n",
       "      <td>To do</td>\n",
       "      <td>In progress</td>\n",
       "      <td>Important</td>\n",
       "      <td>Scherb, Stefan;Macenka, Jan</td>\n",
       "      <td>Macenka, Jan</td>\n",
       "      <td>07/03/2020</td>\n",
       "      <td>07/02/2020</td>\n",
       "      <td>07/08/2020</td>\n",
       "      <td>True</td>\n",
       "      <td>NaN</td>\n",
       "      <td>NaN</td>\n",
       "      <td>Erkentnisse aus Bieter vor Ort Terminen in Aus...</td>\n",
       "      <td>0/11</td>\n",
       "      <td>Versetzen der Temperaturmessung FW-seitig wege...</td>\n",
       "      <td>NaN</td>\n",
       "    </tr>\n",
       "    <tr>\n",
       "      <th>3</th>\n",
       "      <td>fv9j8ax8AkukcTFiLv4gEZcANxr6</td>\n",
       "      <td>Für Umbauprojekt Thermalwasser</td>\n",
       "      <td>ELT</td>\n",
       "      <td>In progress</td>\n",
       "      <td>Medium</td>\n",
       "      <td>Macenka, Jan</td>\n",
       "      <td>Macenka, Jan</td>\n",
       "      <td>05/27/2020</td>\n",
       "      <td>NaN</td>\n",
       "      <td>NaN</td>\n",
       "      <td>False</td>\n",
       "      <td>NaN</td>\n",
       "      <td>NaN</td>\n",
       "      <td>NaN</td>\n",
       "      <td>3/6</td>\n",
       "      <td>-\\tKlärung der Aufgabenstellung für die ET und...</td>\n",
       "      <td>NaN</td>\n",
       "    </tr>\n",
       "    <tr>\n",
       "      <th>4</th>\n",
       "      <td>XFvrI8TF60KXHGnqfOtrGZcAKxaN</td>\n",
       "      <td>Unterlagen für Bestandsanlage</td>\n",
       "      <td>ELT</td>\n",
       "      <td>Not started</td>\n",
       "      <td>Medium</td>\n",
       "      <td>Macenka, Jan</td>\n",
       "      <td>Macenka, Jan</td>\n",
       "      <td>05/27/2020</td>\n",
       "      <td>NaN</td>\n",
       "      <td>NaN</td>\n",
       "      <td>False</td>\n",
       "      <td>NaN</td>\n",
       "      <td>NaN</td>\n",
       "      <td>NaN</td>\n",
       "      <td>0/10</td>\n",
       "      <td>-\\tAnordnungsplan der verfahrenstechnischen An...</td>\n",
       "      <td>NaN</td>\n",
       "    </tr>\n",
       "  </tbody>\n",
       "</table>\n",
       "</div>"
      ],
      "text/plain": [
       "                        Task ID                       Task Name Bucket Name  \\\n",
       "0  Wd28b-lX-0SpEFlYflgF2JcANw4W           Vertragsteil A klären       To do   \n",
       "1  4y5J5__i9kOtxswNT1NKtJcAMJAZ                   EBRO Klappen        To do   \n",
       "2  V1bQA5YYi0yBT49-rVeqZJcAD37b   Ergänzungen zur Ausschreibung       To do   \n",
       "3  fv9j8ax8AkukcTFiLv4gEZcANxr6  Für Umbauprojekt Thermalwasser         ELT   \n",
       "4  XFvrI8TF60KXHGnqfOtrGZcAKxaN   Unterlagen für Bestandsanlage         ELT   \n",
       "\n",
       "      Progress   Priority                      Assigned To    Created By  \\\n",
       "0  Not started     Medium                              NaN  Macenka, Jan   \n",
       "1  Not started     Medium  Macenka, Jan;Schroeder, Hartwig  Macenka, Jan   \n",
       "2  In progress  Important      Scherb, Stefan;Macenka, Jan  Macenka, Jan   \n",
       "3  In progress     Medium                     Macenka, Jan  Macenka, Jan   \n",
       "4  Not started     Medium                     Macenka, Jan  Macenka, Jan   \n",
       "\n",
       "  Created Date  Start Date    Due Date   Late Completed Date Completed By  \\\n",
       "0   07/20/2020         NaN         NaN  False            NaN          NaN   \n",
       "1   07/07/2020  07/06/2020  07/10/2020   True            NaN          NaN   \n",
       "2   07/03/2020  07/02/2020  07/08/2020   True            NaN          NaN   \n",
       "3   05/27/2020         NaN         NaN  False            NaN          NaN   \n",
       "4   05/27/2020         NaN         NaN  False            NaN          NaN   \n",
       "\n",
       "                                         Description  \\\n",
       "0  Für den Umbau ist nach wie Vor kein Vertragste...   \n",
       "1  Angebtlich gibt es einen Vorgang, dass EBRO ei...   \n",
       "2  Erkentnisse aus Bieter vor Ort Terminen in Aus...   \n",
       "3                                                NaN   \n",
       "4                                                NaN   \n",
       "\n",
       "  Completed Checklist Items  \\\n",
       "0                       0/2   \n",
       "1                       2/4   \n",
       "2                      0/11   \n",
       "3                       3/6   \n",
       "4                      0/10   \n",
       "\n",
       "                                     Checklist Items  Labels  \n",
       "0  Lösung für kommerzielle Themen finden;Hr. Hümm...     NaN  \n",
       "1  EBRO anrufen;Ggf. Ersatzbestellung auslösen;We...     NaN  \n",
       "2  Versetzen der Temperaturmessung FW-seitig wege...     NaN  \n",
       "3  -\\tKlärung der Aufgabenstellung für die ET und...     NaN  \n",
       "4  -\\tAnordnungsplan der verfahrenstechnischen An...     NaN  "
      ]
     },
     "execution_count": 8,
     "metadata": {},
     "output_type": "execute_result"
    }
   ],
   "source": [
    "df.head()"
   ]
  },
  {
   "cell_type": "code",
   "execution_count": 9,
   "metadata": {},
   "outputs": [],
   "source": [
    "df_checklist_expanded = df['Checklist Items'].str.split(';',expand=True).add_prefix('Subtask_')"
   ]
  },
  {
   "cell_type": "code",
   "execution_count": 10,
   "metadata": {},
   "outputs": [],
   "source": [
    "df_description = df.drop(['Checklist Items'],axis=1)"
   ]
  },
  {
   "cell_type": "code",
   "execution_count": 11,
   "metadata": {},
   "outputs": [],
   "source": [
    "df_res = pd.concat([df_description,df_checklist_expanded],axis=1).T"
   ]
  },
  {
   "cell_type": "code",
   "execution_count": 12,
   "metadata": {},
   "outputs": [],
   "source": [
    "with pd.ExcelWriter(file_path, mode='a') as writer:\n",
    "    df_res.to_excel(writer, sheet_name=sheetname)"
   ]
  },
  {
   "cell_type": "code",
   "execution_count": 13,
   "metadata": {},
   "outputs": [
    {
     "name": "stdout",
     "output_type": "stream",
     "text": [
      "All Done. Wrote sheet \"Evaluation 2020-08-04 10_21_34\" to file \"Aufgaben (1).xlsx\"\n"
     ]
    }
   ],
   "source": [
    "print(f'All Done. Wrote sheet \"{sheetname}\" to file \"{file_path}\"')"
   ]
  }
 ],
 "metadata": {
  "kernelspec": {
   "display_name": "python3.8",
   "language": "python",
   "name": "python3.8"
  },
  "language_info": {
   "codemirror_mode": {
    "name": "ipython",
    "version": 3
   },
   "file_extension": ".py",
   "mimetype": "text/x-python",
   "name": "python",
   "nbconvert_exporter": "python",
   "pygments_lexer": "ipython3",
   "version": "3.6.10"
  }
 },
 "nbformat": 4,
 "nbformat_minor": 4
}
