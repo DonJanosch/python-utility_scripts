{
 "cells": [
  {
   "cell_type": "code",
   "execution_count": 1,
   "metadata": {},
   "outputs": [],
   "source": [
    "from datetime import datetime\n",
    "from bs4 import BeautifulSoup\n",
    "import requests, json, pandas as pd, numpy as np"
   ]
  },
  {
   "cell_type": "code",
   "execution_count": 2,
   "metadata": {},
   "outputs": [],
   "source": [
    "url_comming_events = 'http://207.154.200.1/events/list/?tribe_paged=1&tribe_event_display=list'\n",
    "url_past_events = 'http://207.154.200.1/events/list/?tribe_paged=1&tribe_event_display=past'\n",
    "\n",
    "urls = [url_past_events, url_comming_events]"
   ]
  },
  {
   "cell_type": "code",
   "execution_count": 3,
   "metadata": {},
   "outputs": [],
   "source": [
    "month_dict = {\n",
    "    'Januar':1,\n",
    "    'Februar':2,\n",
    "    'März':3,\n",
    "    'April':4,\n",
    "    'Mai':5,\n",
    "    'Juni':6,\n",
    "    'Juli':7,\n",
    "    'August':8,\n",
    "    'September':9,\n",
    "    'Oktober':10,\n",
    "    'November':11,\n",
    "    'Dezember':12,\n",
    "}"
   ]
  },
  {
   "cell_type": "code",
   "execution_count": 4,
   "metadata": {},
   "outputs": [],
   "source": [
    "year = datetime.now().year\n",
    "saison_start = datetime(year, 4, 1)\n",
    "saison_end = datetime(year, 10, 31)\n",
    "relevant_weekdays = [5,6]\n",
    "weekday_dict = {5:'Samstag',6:'Sonntag'}\n",
    "holiday_api_url = f'https://feiertage-api.de/api/?jahr={year}'\n",
    "country = 'BY'\n",
    "file_name = f'NBDF_schleppkalender_pull_{datetime.now().strftime(\"%Y-%m-%d\")}.xlsx'\n",
    "holiday_obj = json.loads(requests.get(holiday_api_url).content)[country]\n",
    "holiday_dict = dict()\n",
    "for name, param in holiday_obj.items():\n",
    "    holiday_str = param['datum']\n",
    "    holiday = datetime.strptime(holiday_str,'%Y-%m-%d')\n",
    "    hinweis = param['hinweis']\n",
    "    if len(hinweis) == 0:\n",
    "        holiday_dict[holiday] = name\n",
    "holidays = list(holiday_dict.keys())\n",
    "dates, calendar_weeks, weekdays = [], [], []\n",
    "for month in range(1,13,1):\n",
    "    for day in range(1,32,1):\n",
    "        try:\n",
    "            date = datetime(year, month, day)\n",
    "            date_str = date.strftime('%d.%m.%Y')\n",
    "            weekday = date.weekday()\n",
    "            calendar_week = date.strftime('%V')\n",
    "            if (weekday in relevant_weekdays or date in holidays) and date > saison_start and date < saison_end:\n",
    "                if date in holidays:\n",
    "                    weekday_str = holiday_dict[date]\n",
    "                else:\n",
    "                    weekday_str = weekday_dict[weekday]\n",
    "                dates.append(date_str)\n",
    "                calendar_weeks.append(calendar_week)\n",
    "                weekdays.append(weekday_str)\n",
    "        except:\n",
    "            pass\n",
    "        \n",
    "windenfahrer, helfer = ['' for _ in range(len(dates))], ['' for _ in range(len(dates))]"
   ]
  },
  {
   "cell_type": "code",
   "execution_count": 5,
   "metadata": {},
   "outputs": [],
   "source": [
    "year = datetime.now().year\n",
    "for url in urls:\n",
    "    response = requests.get(url)\n",
    "    soup = BeautifulSoup(response.content,'html.parser')\n",
    "    event_list = soup.find_all('div',attrs={'class':'type-tribe_events'})\n",
    "    for event in event_list:\n",
    "        event_str = event.find('h3').text.strip()\n",
    "        event_type = event_str.split(' ')[0]\n",
    "        event_client = event_str.split(event_type)[1].strip()\n",
    "        event_date_str = event.find('span').text.split('@')[0]\n",
    "        month, day = event_date_str.strip().split(' ')\n",
    "        month = month_dict[month]\n",
    "        event_date = datetime(year,month,int(day))\n",
    "        event_date_str = event_date.strftime('%d.%m.%Y')\n",
    "        index = dates.index(event_date_str)\n",
    "        if event_type.strip().lower() == 'windenfahrer':\n",
    "            windenfahrer[index] = event_client\n",
    "        elif event_type.strip().lower() == 'helfer':\n",
    "            helfer[index] = event_client"
   ]
  },
  {
   "cell_type": "code",
   "execution_count": 6,
   "metadata": {},
   "outputs": [],
   "source": [
    "df_dict = {\n",
    "    'KW':calendar_weeks,\n",
    "    'Wochentag':weekdays,\n",
    "    'Datum':dates,\n",
    "    'Windenfahrer':windenfahrer,\n",
    "    'Helfer':helfer,\n",
    "}"
   ]
  },
  {
   "cell_type": "code",
   "execution_count": 7,
   "metadata": {},
   "outputs": [],
   "source": [
    "df = pd.DataFrame(df_dict)"
   ]
  },
  {
   "cell_type": "code",
   "execution_count": 8,
   "metadata": {},
   "outputs": [],
   "source": [
    "with pd.ExcelWriter(file_name) as writer:\n",
    "    df.to_excel(writer, sheet_name=str(year),index=False)"
   ]
  },
  {
   "cell_type": "code",
   "execution_count": 9,
   "metadata": {},
   "outputs": [],
   "source": [
    "with open('schleppkalender_import.csv','w') as f:\n",
    "    f.write('datum;event;\\n')\n",
    "    for idx, w in enumerate(windenfahrer):\n",
    "        if len(w) > 0:\n",
    "            datum = dates[idx]\n",
    "            f.write(f'{datum};Windenfahrer {w};\\n')\n",
    "    for idx, h in enumerate(helfer):\n",
    "        if len(h) > 0:\n",
    "            datum = dates[idx]\n",
    "            f.write(f'{datum};Helfer {h};\\n')"
   ]
  },
  {
   "cell_type": "code",
   "execution_count": 10,
   "metadata": {},
   "outputs": [
    {
     "name": "stdout",
     "output_type": "stream",
     "text": [
      "All Done!\n"
     ]
    }
   ],
   "source": [
    "print('All Done!')"
   ]
  }
 ],
 "metadata": {
  "kernelspec": {
   "display_name": "Python 3",
   "language": "python",
   "name": "python3"
  },
  "language_info": {
   "codemirror_mode": {
    "name": "ipython",
    "version": 3
   },
   "file_extension": ".py",
   "mimetype": "text/x-python",
   "name": "python",
   "nbconvert_exporter": "python",
   "pygments_lexer": "ipython3",
   "version": "3.7.1"
  }
 },
 "nbformat": 4,
 "nbformat_minor": 2
}
