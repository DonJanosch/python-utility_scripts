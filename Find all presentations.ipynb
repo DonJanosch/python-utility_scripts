{
 "cells": [
  {
   "cell_type": "code",
   "execution_count": 1,
   "metadata": {},
   "outputs": [],
   "source": [
    "import os\n",
    "from datetime import datetime\n",
    "from shutil import copyfile"
   ]
  },
  {
   "cell_type": "code",
   "execution_count": 2,
   "metadata": {},
   "outputs": [],
   "source": [
    "root_dir = '\\\\\\\\192.168.100.200\\\\Vertrieb_Marketing\\\\'\n",
    "presentation_collection_target_dir = '\\\\\\\\192.168.100.200\\\\User\\\\Macenka\\\\All_results'\n",
    "required_substring = '.ppt'\n",
    "doc_name = 'alle_präsentationen.csv'\n",
    "doc_header = ';'.join(['Nr.','File path','File name','Last modified'])\n",
    "scan_date = datetime.now().strftime('%Y%m%d_')\n",
    "copy_files = False"
   ]
  },
  {
   "cell_type": "code",
   "execution_count": 3,
   "metadata": {},
   "outputs": [],
   "source": [
    "dirs = os.walk(root_dir)"
   ]
  },
  {
   "cell_type": "code",
   "execution_count": 5,
   "metadata": {},
   "outputs": [
    {
     "name": "stdout",
     "output_type": "stream",
     "text": [
      "Processing\n",
      "Done\n"
     ]
    }
   ],
   "source": [
    "results = []\n",
    "total_files_found = 0\n",
    "print('Processing')\n",
    "for path, subdirs, files in os.walk(root_dir):\n",
    "    for file in files:\n",
    "        if required_substring in file:\n",
    "            total_files_found += 1\n",
    "            file_path = os.path.join(path, file)\n",
    "            last_modified = os.stat(file_path).st_mtime\n",
    "            last_modified_str = datetime.utcfromtimestamp(last_modified).strftime('%Y-%m-%d %H:%M:%S')\n",
    "            data_set = ';'.join([str(total_files_found),file_path,file,last_modified_str])\n",
    "            results.append(data_set)\n",
    "            if copy_files:\n",
    "                copyfile(file_path, os.path.join(presentation_collection_target_dir,file))\n",
    "print('Done')"
   ]
  },
  {
   "cell_type": "code",
   "execution_count": null,
   "metadata": {},
   "outputs": [],
   "source": [
    "abs_path = os.path.join(root_dir, scan_date+doc_name)\n",
    "with open(abs_path, 'w') as f:\n",
    "    f.write(f'{doc_header}\\n')\n",
    "    for p in results:\n",
    "        f.write(f'{p}\\n')"
   ]
  },
  {
   "cell_type": "code",
   "execution_count": null,
   "metadata": {},
   "outputs": [],
   "source": [
    "print(f'All Done. Found {len(results)} presentations in total.')"
   ]
  }
 ],
 "metadata": {
  "kernelspec": {
   "display_name": "Python 3",
   "language": "python",
   "name": "python3"
  },
  "language_info": {
   "codemirror_mode": {
    "name": "ipython",
    "version": 3
   },
   "file_extension": ".py",
   "mimetype": "text/x-python",
   "name": "python",
   "nbconvert_exporter": "python",
   "pygments_lexer": "ipython3",
   "version": "3.7.0"
  }
 },
 "nbformat": 4,
 "nbformat_minor": 2
}
